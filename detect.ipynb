{
 "cells": [
  {
   "cell_type": "code",
   "execution_count": null,
   "metadata": {},
   "outputs": [],
   "source": [
    "!python recognizer/handler/yolov5/detect.py --weights best.pt --source recognizer/file_storage/17.jpg --save-txt --save-conf"
   ]
  },
  {
   "cell_type": "code",
   "execution_count": null,
   "metadata": {},
   "outputs": [],
   "source": [
    "import torch\n",
    "import utils\n",
    "display = utils.notebook_init()  # checks\n",
    "\n",
    "display.Image(filename='runs/detect/exp2/43.jpg', width=1280)"
   ]
  },
  {
   "cell_type": "code",
   "execution_count": null,
   "metadata": {},
   "outputs": [],
   "source": [
    "from pathlib import Path\n",
    "import utils\n",
    "\n",
    "\n",
    "import cv2\n",
    "\n",
    "display = utils.notebook_init()  # checks\n",
    "labels = Path('runs/detect/exp5/labels/86.txt')\n",
    "image_path = 'data/images/86.jpg'\n",
    "new_image = 'data/images/86_1.jpg'\n",
    "\n",
    "with open(labels, 'r') as label:\n",
    "    coord = label.readlines()\n",
    "\n",
    "boxes = []    \n",
    "for box in coord:\n",
    "    box = box.replace('\\n','')\n",
    "    box = box.split()\n",
    "    boxes.append(box)\n",
    "\n",
    "image = cv2.imread(image_path)\n",
    "height, width, _ = image.shape\n",
    "\n",
    "print(height, width)\n",
    "for box in boxes:\n",
    "    x = int(float(box[1]) * width)\n",
    "    y = int(float(box[2]) * height)\n",
    "    #print(box)\n",
    "    #print(x, y)\n",
    "    cv2.circle(image, (x, y), 3, (0, 255, 0), 5)\n",
    "    \n",
    "msg = f'Warlus number = {len(boxes)}'\n",
    "\n",
    "cv2.putText(image, msg, (50, 60), cv2.FONT_HERSHEY_SIMPLEX, 2, (0, 255, 0), 10, cv2.LINE_AA)\n",
    "  \n",
    "cv2.imwrite(new_image, image)\n",
    "\n",
    "#display.Image(filename=image_path)\n",
    "display.Image(filename=new_image)\n",
    "    "
   ]
  }
 ],
 "metadata": {
  "kernelspec": {
   "display_name": "Python 3.10.0 ('venv': venv)",
   "language": "python",
   "name": "python3"
  },
  "language_info": {
   "codemirror_mode": {
    "name": "ipython",
    "version": 3
   },
   "file_extension": ".py",
   "mimetype": "text/x-python",
   "name": "python",
   "nbconvert_exporter": "python",
   "pygments_lexer": "ipython3",
   "version": "3.10.0"
  },
  "orig_nbformat": 4,
  "vscode": {
   "interpreter": {
    "hash": "2e13c0b6539058f3aa8b1af83bc5e5a4bbf375e1eb54dba67290248d2d5f2675"
   }
  }
 },
 "nbformat": 4,
 "nbformat_minor": 2
}
